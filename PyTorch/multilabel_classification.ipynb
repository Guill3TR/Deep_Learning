{
 "cells": [
  {
   "cell_type": "markdown",
   "metadata": {},
   "source": [
    "## **MULTILABEL CLASSIFICATION EXAMPLE**"
   ]
  },
  {
   "cell_type": "markdown",
   "metadata": {},
   "source": [
    "- Some explanations to understand the difference between multiclass and multilabel:\n",
    "\n",
    "**multiclass** = dog, cat, bird (3 columns)\n",
    "\n",
    "**multilabel** = 1, 1, 0 (more than 1 exlusive class)\n",
    "\n",
    "**n_label** = 2  --> means that the average of exclusive class per observation are 2"
   ]
  },
  {
   "cell_type": "markdown",
   "metadata": {},
   "source": [
    "### Packages"
   ]
  },
  {
   "cell_type": "code",
   "execution_count": 1,
   "metadata": {},
   "outputs": [
    {
     "name": "stderr",
     "output_type": "stream",
     "text": [
      "/home/codespace/.local/lib/python3.10/site-packages/pandas/core/arrays/masked.py:60: UserWarning: Pandas requires version '1.3.6' or newer of 'bottleneck' (version '1.3.5' currently installed).\n",
      "  from pandas.core import (\n"
     ]
    }
   ],
   "source": [
    "from sklearn.datasets import make_multilabel_classification\n",
    "from sklearn.model_selection import train_test_split\n",
    "from sklearn.metrics import accuracy_score\n",
    "import torch\n",
    "import torch.nn as nn\n",
    "from torch.utils.data import Dataset, DataLoader \n",
    "import seaborn as sns\n",
    "import numpy as np\n",
    "from collections import Counter"
   ]
  },
  {
   "cell_type": "markdown",
   "metadata": {},
   "source": [
    "### Data Preparation and Train Test Split"
   ]
  },
  {
   "cell_type": "code",
   "execution_count": 2,
   "metadata": {},
   "outputs": [],
   "source": [
    "X, y = make_multilabel_classification(n_samples=10000, n_features=10, n_classes=3, n_labels=2)\n",
    "X_torch = torch.FloatTensor(X) #tensor for independient features\n",
    "y_torch = torch.FloatTensor(y) #tensor for dependient feature"
   ]
  },
  {
   "cell_type": "code",
   "execution_count": 3,
   "metadata": {},
   "outputs": [],
   "source": [
    "X_train, X_test, y_train, y_test = train_test_split(X_torch, y_torch, test_size = 0.2)"
   ]
  },
  {
   "cell_type": "markdown",
   "metadata": {},
   "source": [
    "### Dataset and Dataloader"
   ]
  },
  {
   "cell_type": "code",
   "execution_count": 13,
   "metadata": {},
   "outputs": [],
   "source": [
    "class MultilabelDataset(Dataset):\n",
    "    def __init__(self, X, y):\n",
    "        self.X = X\n",
    "        self.y = y\n",
    "    \n",
    "    def __len__(self):\n",
    "        return len(self.X)\n",
    "    \n",
    "    def __getitem__(self, idx):\n",
    "        return self.X[idx], self.y[idx]\n",
    "\n",
    "multilabel_train_data = MultilabelDataset(X_train, y_train)\n",
    "multilabel_test_data = MultilabelDataset(X_test, y_test)\n",
    "\n",
    "train_loader = DataLoader(dataset = multilabel_train_data, batch_size=10, shuffle=True)\n",
    "test_loader = DataLoader(dataset = multilabel_test_data, batch_size=10, shuffle=True)"
   ]
  },
  {
   "cell_type": "markdown",
   "metadata": {},
   "source": [
    "### Define the Model Network"
   ]
  },
  {
   "cell_type": "code",
   "execution_count": 21,
   "metadata": {},
   "outputs": [
    {
     "data": {
      "text/plain": [
       "MultilabelNetwork(\n",
       "  (fc1): Linear(in_features=10, out_features=20, bias=True)\n",
       "  (relu): ReLU()\n",
       "  (fc2): Linear(in_features=20, out_features=3, bias=True)\n",
       "  (sigmoid): Sigmoid()\n",
       ")"
      ]
     },
     "execution_count": 21,
     "metadata": {},
     "output_type": "execute_result"
    }
   ],
   "source": [
    "class MultilabelNetwork(nn.Module):\n",
    "    def __init__(self, input_size, hidden_size, output_size):\n",
    "        super(MultilabelNetwork, self).__init__()\n",
    "        self.fc1 = nn.Linear(input_size, hidden_size) #fully connected layer\n",
    "        self.relu = nn.ReLU() #rectified linear unit\n",
    "        self.fc2 = nn.Linear(hidden_size, output_size)\n",
    "        self.sigmoid = nn.Sigmoid()\n",
    "    \n",
    "    def forward(self, x):\n",
    "        x = self.fc1(x)\n",
    "        x = self.relu(x)\n",
    "        x = self.fc2(x)\n",
    "        x = self.sigmoid(x)\n",
    "        return x\n",
    "\n",
    "input_dim = multilabel_train_data.X.shape[1] #10 independent columns\n",
    "output_dim = multilabel_train_data.y.shape[1] #3 target columns\n",
    "\n",
    "model = MultilabelNetwork(input_size=input_dim, hidden_size=20, output_size=output_dim)\n",
    "model.train()"
   ]
  },
  {
   "cell_type": "code",
   "execution_count": 22,
   "metadata": {},
   "outputs": [
    {
     "name": "stdout",
     "output_type": "stream",
     "text": [
      "10\n",
      "3\n"
     ]
    }
   ],
   "source": [
    "print(multilabel_train_data.X.shape[1])\n",
    "print(multilabel_train_data.y.shape[1])"
   ]
  },
  {
   "cell_type": "code",
   "execution_count": 31,
   "metadata": {},
   "outputs": [
    {
     "name": "stdout",
     "output_type": "stream",
     "text": [
      "Epoch 0, Loss: 0.41456449031829834\n",
      "Epoch 10, Loss: 0.5998520255088806\n",
      "Epoch 20, Loss: 0.6445453763008118\n",
      "Epoch 30, Loss: 0.5985491871833801\n",
      "Epoch 40, Loss: 0.5698710680007935\n",
      "Epoch 50, Loss: 0.536537766456604\n",
      "Epoch 60, Loss: 0.45255306363105774\n",
      "Epoch 70, Loss: 0.6065568327903748\n",
      "Epoch 80, Loss: 0.49054160714149475\n",
      "Epoch 90, Loss: 0.5618634819984436\n"
     ]
    }
   ],
   "source": [
    "loss_fn = nn.BCEWithLogitsLoss() #Binary Cross, because the results are 0 or 1\n",
    "optimizer = torch.optim.Adam(model.parameters(), lr=0.01)\n",
    "losses = []\n",
    "slope, bias = [], []\n",
    "number_epochs = 100\n",
    "for epoch in range(number_epochs):\n",
    "    for j, (X, y) in enumerate(train_loader): #y = target variables\n",
    "        \n",
    "        # optimization\n",
    "        optimizer.zero_grad()\n",
    "\n",
    "        # forward pass\n",
    "        y_pred = model(X)\n",
    "\n",
    "        # compute loss\n",
    "        y_pred_class = y_pred.round()\n",
    "        loss = loss_fn(y_pred_class, y)\n",
    "\n",
    "        # backprop\n",
    "        loss.backward()\n",
    "\n",
    "        # update weights\n",
    "        optimizer.step()\n",
    "    \n",
    "    if (epoch % 10 == 0):\n",
    "        current_loss = loss.item()\n",
    "        print(f\"Epoch {epoch}, Loss: {current_loss}\")\n",
    "        losses.append(current_loss) #item() is used to extract this value as a floating number"
   ]
  },
  {
   "cell_type": "code",
   "execution_count": 32,
   "metadata": {},
   "outputs": [
    {
     "data": {
      "text/plain": [
       "10"
      ]
     },
     "execution_count": 32,
     "metadata": {},
     "output_type": "execute_result"
    }
   ],
   "source": [
    "len(losses)"
   ]
  },
  {
   "cell_type": "code",
   "execution_count": 34,
   "metadata": {},
   "outputs": [
    {
     "data": {
      "text/plain": [
       "<Axes: >"
      ]
     },
     "execution_count": 34,
     "metadata": {},
     "output_type": "execute_result"
    },
    {
     "data": {
      "image/png": "[encoded data removed]",
      "text/plain": [
       "<Figure size 640x480 with 1 Axes>"
      ]
     },
     "metadata": {},
     "output_type": "display_data"
    }
   ],
   "source": [
    "sns.scatterplot(x=range(len(losses)), y=losses)"
   ]
  },
  {
   "cell_type": "markdown",
   "metadata": {},
   "source": [
    "### Test the Model"
   ]
  },
  {
   "cell_type": "code",
   "execution_count": 37,
   "metadata": {},
   "outputs": [],
   "source": [
    "with torch.no_grad():\n",
    "    y_test_pred = model(X_test).round()"
   ]
  },
  {
   "cell_type": "code",
   "execution_count": 38,
   "metadata": {},
   "outputs": [
    {
     "data": {
      "text/plain": [
       "tensor([[0., 1., 1.],\n",
       "        [0., 0., 1.],\n",
       "        [0., 1., 1.],\n",
       "        ...,\n",
       "        [0., 1., 1.],\n",
       "        [1., 1., 1.],\n",
       "        [0., 1., 1.]])"
      ]
     },
     "execution_count": 38,
     "metadata": {},
     "output_type": "execute_result"
    }
   ],
   "source": [
    "y_test_pred"
   ]
  },
  {
   "cell_type": "markdown",
   "metadata": {},
   "source": [
    "### Naive Classifier Accuracy"
   ]
  },
  {
   "cell_type": "code",
   "execution_count": 41,
   "metadata": {},
   "outputs": [
    {
     "name": "stdout",
     "output_type": "stream",
     "text": [
      "Naive classifier: 29.5%\n"
     ]
    }
   ],
   "source": [
    "y_test_str = [str(i) for i in y_test.detach().numpy()]\n",
    "\n",
    "most_common_cnt = Counter(y_test_str).most_common()[0][1]\n",
    "print(f\"Naive classifier: {most_common_cnt/len(y_test_str) * 100}%\")"
   ]
  },
  {
   "cell_type": "code",
   "execution_count": 45,
   "metadata": {},
   "outputs": [
    {
     "data": {
      "text/plain": [
       "[('[0. 1. 1.]', 590),\n",
       " ('[1. 1. 1.]', 419),\n",
       " ('[0. 0. 1.]', 395),\n",
       " ('[0. 0. 0.]', 308),\n",
       " ('[0. 1. 0.]', 233),\n",
       " ('[1. 0. 1.]', 28),\n",
       " ('[1. 0. 0.]', 16),\n",
       " ('[1. 1. 0.]', 11)]"
      ]
     },
     "execution_count": 45,
     "metadata": {},
     "output_type": "execute_result"
    }
   ],
   "source": [
    "most_common_cnt"
   ]
  },
  {
   "cell_type": "code",
   "execution_count": 46,
   "metadata": {},
   "outputs": [
    {
     "data": {
      "text/plain": [
       "590"
      ]
     },
     "execution_count": 46,
     "metadata": {},
     "output_type": "execute_result"
    }
   ],
   "source": [
    "Counter(y_test_str).most_common()[0][1]"
   ]
  },
  {
   "cell_type": "code",
   "execution_count": 47,
   "metadata": {},
   "outputs": [
    {
     "name": "stdout",
     "output_type": "stream",
     "text": [
      "Test accuracy: 76.1%\n"
     ]
    }
   ],
   "source": [
    "test_acc = accuracy_score(y_test, y_test_pred)\n",
    "print(f\"Test accuracy: {test_acc * 100}%\")"
   ]
  },
  {
   "cell_type": "markdown",
   "metadata": {},
   "source": [
    "---------"
   ]
  }
 ],
 "metadata": {
  "kernelspec": {
   "display_name": "pytorch",
   "language": "python",
   "name": "python3"
  },
  "language_info": {
   "codemirror_mode": {
    "name": "ipython",
    "version": 3
   },
   "file_extension": ".py",
   "mimetype": "text/x-python",
   "name": "python",
   "nbconvert_exporter": "python",
   "pygments_lexer": "ipython3",
   "version": "3.10.13"
  }
 },
 "nbformat": 4,
 "nbformat_minor": 2
}
