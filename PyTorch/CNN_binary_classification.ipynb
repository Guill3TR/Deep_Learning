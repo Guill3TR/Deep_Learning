 {
 "cells": [
  {
   "cell_type": "markdown",
   "metadata": {},
   "source": [
    "## **CONVOLUTIONAL NEURAL NETWORK --> BINARY CLASSIFICATION**"
   ]
  },
  {
   "cell_type": "markdown",
   "metadata": {},
   "source": [
    "This notebook consists of training a convolutional neural network with two kinds of images:\n",
    "\n",
    "- One showing broken concrete\n",
    "\n",
    "- Other showing unbroken concrete"
   ]
  },
  {
   "cell_type": "markdown",
   "metadata": {},
   "source": [
    "The neural network, once trained, will be able to classify these two types of images as broken or unbroken, using 0 and 1."
   ]
  },
  {
   "cell_type": "markdown",
   "metadata": {},
   "source": [
    "### Packages"
   ]
  },
  {
   "cell_type": "code",
   "execution_count": 1,
   "metadata": {},
   "outputs": [
    {
     "data": {
      "text/plain": [
       "'/workspaces/Deep_Learning'"
      ]
     },
     "execution_count": 1,
     "metadata": {},
     "output_type": "execute_result"
    }
   ],
   "source": [
    "import torch\n",
    "import torchvision\n",
    "import torchvision.transforms as transforms\n",
    "import torch.nn as nn\n",
    "import torch.nn.functional as F\n",
    "from torch.utils.data import DataLoader\n",
    "import os\n",
    "import matplotlib.pyplot as plt\n",
    "import numpy as np\n",
    "from sklearn.metrics import accuracy_score\n",
    "os.getcwd()"
   ]
  },
  {
   "cell_type": "markdown",
   "metadata": {},
   "source": [
    "### Image Preprocessing"
   ]
  },
  {
   "cell_type": "code",
   "execution_count": 4,
   "metadata": {},
   "outputs": [],
   "source": [
    "transform = transforms.Compose(\n",
    "    [transforms.Resize(32),\n",
    "    transforms.Grayscale(num_output_channels=1),\n",
    "    transforms.ToTensor(),\n",
    "    transforms.Normalize((0.5,), (0.5,))\n",
    "])\n",
    "\n",
    "batch_size = 4\n",
    "trainset = torchvision.datasets.ImageFolder(root='060_CNN_ImageClassification/BinaryClassification/data/train', transform=transform)\n",
    "trainloader = torch.utils.data.DataLoader(trainset, batch_size=batch_size, shuffle=True)\n",
    "testset = torchvision.datasets.ImageFolder(root='060_CNN_ImageClassification/BinaryClassification/data/test', transform=transform)\n",
    "testloader = torch.utils.data.DataLoader(testset, batch_size=batch_size, shuffle=True)\n",
    "classes = ['Positive', 'Negative']"
   ]
  },
  {
   "cell_type": "code",
   "execution_count": 5,
   "metadata": {},
   "outputs": [
    {
     "data": {
      "image/png": "[encoded data removed]",
      "text/plain": [
       "<Figure size 640x480 with 1 Axes>"
      ]
     },
     "metadata": {},
     "output_type": "display_data"
    }
   ],
   "source": [
    "def imshow(img):\n",
    "    img = img / 2 + 0.5 #unnormalize\n",
    "    npimg = img.numpy()\n",
    "    plt.imshow(np.transpose(npimg, (1, 2, 0)))\n",
    "    plt.show()\n",
    "\n",
    "\n",
    "#get some random training images\n",
    "for images, labels in trainloader:\n",
    "    imshow(torchvision.utils.make_grid(images, nrow=2))\n",
    "    break"
   ]
  },
  {
   "cell_type": "markdown",
   "metadata": {},
   "source": [
    "### Neural Network Setup"
   ]
  },
  {
   "cell_type": "code",
   "execution_count": 6,
   "metadata": {},
   "outputs": [],
   "source": [
    "class ImageClassificationNet(nn.Module): #base class for all PyTorch models\n",
    "    def __init__(self) -> None: #none indicates that the method does not return any explicit value\n",
    "        super().__init__()\n",
    "        self.conv1 = nn.Conv2d(1, 6, 3) #first conv layer, 1 input channel, 6 output channels and a 3x3 kernel size\n",
    "        self.pool = nn.MaxPool2d(2, 2) #maximum clustering with 2x2 window size and 2 pixel offset\n",
    "        self.conv2 = nn.Conv2d(6, 16, 3) #second conv layer, 6 input channel, 16 output channels and a 3x3 kernel size\n",
    "        self.fc1 = nn.Linear(16 * 6 * 6, 128)\n",
    "        self.fc2 = nn.Linear(128, 64)\n",
    "        self.fc3 = nn.Linear(64, 1) #fully connected (or dense) layers to perform classification\n",
    "        self.relu = nn.ReLU() #activation function (Rectified Linear Unit), which is used after the convolutional layers and fully connected\n",
    "        self.sigmoid = nn.Sigmoid() #sigmoid trigger function, which is used to obtain the final output of the network in the range 0 to 1\n",
    "    \n",
    "    def forward(self, x): #defines how data is propagated through the network, x represents the input data (images)\n",
    "        x = self.conv1(x)\n",
    "        x = F.relu(x)\n",
    "        x = self.pool(x)\n",
    "        x = self.conv2(x)\n",
    "        x = F.relu(x)\n",
    "        x = self.pool(x)\n",
    "        \n",
    "        x = torch.flatten(x, 1)\n",
    "        x = self.fc1(x)\n",
    "        x = self.relu(x)\n",
    "        x = self.fc2(x)\n",
    "        x = self.relu(x)\n",
    "        x = self.fc3(x)\n",
    "        x = self.sigmoid(x)\n",
    "        return x"
   ]
  },
  {
   "cell_type": "markdown",
   "metadata": {},
   "source": [
    "- Convolutional and pooling layers are applied using the functions self.conv1, self.pool, self.conv2 and self.pool\n",
    "- After each convolutional layer, a ReLU activation function is applied via F.relu(x), where F is the alias for the torch.nn.functional module\n",
    "- Before moving from convolutional layers to fully connected layers, the data is flattened into a one-dimensional vector using torch.flatten\n",
    "- The fully connected layers (self.fc1, self.fc2, self.fc3) and the activation functions ReLU (self.relu) and sigmoid (self.sigmoid) are applied in sequence to obtain the final network output.\n",
    "\n",
    "- In a binary classification problem, the output of the neural network is passed through a sigmoid function to be interpreted as the probability that the input belongs to one of the two classes"
   ]
  },
  {
   "cell_type": "markdown",
   "metadata": {},
   "source": [
    "### Model"
   ]
  },
  {
   "cell_type": "code",
   "execution_count": 7,
   "metadata": {},
   "outputs": [],
   "source": [
    "model = ImageClassificationNet()      \n",
    "loss_fn = nn.BCELoss()\n",
    "optimizer = torch.optim.SGD(model.parameters(), lr=0.001, momentum=0.8)"
   ]
  },
  {
   "cell_type": "markdown",
   "metadata": {},
   "source": [
    "- Training"
   ]
  },
  {
   "cell_type": "code",
   "execution_count": 11,
   "metadata": {},
   "outputs": [
    {
     "name": "stdout",
     "output_type": "stream",
     "text": [
      "Epoch 0/10, Step 1/250,Loss: 0.0608\n",
      "Epoch 0/10, Step 101/250,Loss: 0.1023\n",
      "Epoch 0/10, Step 201/250,Loss: 0.7515\n",
      "Epoch 1/10, Step 1/250,Loss: 0.0891\n",
      "Epoch 1/10, Step 101/250,Loss: 0.6243\n",
      "Epoch 1/10, Step 201/250,Loss: 0.0671\n",
      "Epoch 2/10, Step 1/250,Loss: 0.0736\n",
      "Epoch 2/10, Step 101/250,Loss: 0.4583\n",
      "Epoch 2/10, Step 201/250,Loss: 0.0283\n",
      "Epoch 3/10, Step 1/250,Loss: 0.7380\n",
      "Epoch 3/10, Step 101/250,Loss: 0.1140\n",
      "Epoch 3/10, Step 201/250,Loss: 0.0634\n",
      "Epoch 4/10, Step 1/250,Loss: 0.5227\n",
      "Epoch 4/10, Step 101/250,Loss: 0.6602\n",
      "Epoch 4/10, Step 201/250,Loss: 0.0453\n",
      "Epoch 5/10, Step 1/250,Loss: 0.1249\n",
      "Epoch 5/10, Step 101/250,Loss: 0.3962\n",
      "Epoch 5/10, Step 201/250,Loss: 0.1331\n",
      "Epoch 6/10, Step 1/250,Loss: 0.5995\n",
      "Epoch 6/10, Step 101/250,Loss: 0.0834\n",
      "Epoch 6/10, Step 201/250,Loss: 0.0865\n",
      "Epoch 7/10, Step 1/250,Loss: 0.5752\n",
      "Epoch 7/10, Step 101/250,Loss: 0.0910\n",
      "Epoch 7/10, Step 201/250,Loss: 0.0740\n",
      "Epoch 8/10, Step 1/250,Loss: 0.0395\n",
      "Epoch 8/10, Step 101/250,Loss: 0.0213\n",
      "Epoch 8/10, Step 201/250,Loss: 0.4548\n",
      "Epoch 9/10, Step 1/250,Loss: 0.4965\n",
      "Epoch 9/10, Step 101/250,Loss: 0.0198\n",
      "Epoch 9/10, Step 201/250,Loss: 0.0307\n"
     ]
    }
   ],
   "source": [
    "NUM_EPOCHS = 10\n",
    "for epoch in range(NUM_EPOCHS):\n",
    "    for i, data in enumerate(trainloader, 0):\n",
    "        inputs, labels = data\n",
    "        optimizer.zero_grad()\n",
    "        outputs = model(inputs)\n",
    "        \n",
    "        loss = loss_fn(outputs, labels.reshape(-1, 1).float()) #two dimesinal\n",
    "        loss.backward()\n",
    "        optimizer.step()\n",
    "\n",
    "        if i % 100 == 0:\n",
    "            print(f'Epoch {epoch}/{NUM_EPOCHS}, Step {i+1}/{len(trainloader)},'\n",
    "                  f'Loss: {loss.item():.4f}')"
   ]
  },
  {
   "cell_type": "markdown",
   "metadata": {},
   "source": [
    "- Testing"
   ]
  },
  {
   "cell_type": "code",
   "execution_count": 12,
   "metadata": {},
   "outputs": [],
   "source": [
    "y_test = []\n",
    "y_test_pred = []\n",
    "for i, data in enumerate(testloader, 0):\n",
    "    inputs, y_test_temp = data\n",
    "    with torch.no_grad():\n",
    "        y_test_hat_temp = model(inputs).round()\n",
    "    \n",
    "    y_test.extend(y_test_temp.numpy())\n",
    "    y_test_pred.extend(y_test_hat_temp.numpy())"
   ]
  },
  {
   "cell_type": "markdown",
   "metadata": {},
   "source": [
    "- Accuracy"
   ]
  },
  {
   "cell_type": "code",
   "execution_count": 13,
   "metadata": {},
   "outputs": [
    {
     "name": "stdout",
     "output_type": "stream",
     "text": [
      "Accuracy: 89.83 %\n"
     ]
    }
   ],
   "source": [
    "acc = accuracy_score(y_test, y_test_pred)\n",
    "print(f'Accuracy: {acc*100:.2f} %')"
   ]
  },
  {
   "cell_type": "markdown",
   "metadata": {},
   "source": [
    "-----------"
   ]
  }
 ],
 "metadata": {
  "kernelspec": {
   "display_name": "pytorch",
   "language": "python",
   "name": "python3"
  },
  "language_info": {
   "codemirror_mode": {
    "name": "ipython",
    "version": 3
   },
   "file_extension": ".py",
   "mimetype": "text/x-python",
   "name": "python",
   "nbconvert_exporter": "python",
   "pygments_lexer": "ipython3",
   "version": "3.10.13"
  }
 },
 "nbformat": 4,
 "nbformat_minor": 2
}
